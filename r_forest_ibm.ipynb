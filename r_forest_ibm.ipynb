{
  "nbformat": 4,
  "nbformat_minor": 0,
  "metadata": {
    "colab": {
      "provenance": []
    },
    "kernelspec": {
      "name": "python3",
      "display_name": "Python 3"
    },
    "language_info": {
      "name": "python"
    }
  },
  "cells": [
    {
      "cell_type": "code",
      "execution_count": 28,
      "metadata": {
        "id": "qWPg1kyTlaNC",
        "colab": {
          "base_uri": "https://localhost:8080/"
        },
        "outputId": "0c16eac1-8c39-440e-c5b0-c57029afc9cf"
      },
      "outputs": [
        {
          "output_type": "stream",
          "name": "stdout",
          "text": [
            "   CustomerID  Count        Country       State         City  Zip Code  \\\n",
            "0  3668-QPYBK      1  United States  California  Los Angeles     90003   \n",
            "1  9237-HQITU      1  United States  California  Los Angeles     90005   \n",
            "2  9305-CDSKC      1  United States  California  Los Angeles     90006   \n",
            "3  7892-POOKP      1  United States  California  Los Angeles     90010   \n",
            "4  0280-XJGEX      1  United States  California  Los Angeles     90015   \n",
            "\n",
            "                 Lat Long   Latitude   Longitude  Gender  ...        Contract  \\\n",
            "0  33.964131, -118.272783  33.964131 -118.272783    Male  ...  Month-to-month   \n",
            "1   34.059281, -118.30742  34.059281 -118.307420  Female  ...  Month-to-month   \n",
            "2  34.048013, -118.293953  34.048013 -118.293953  Female  ...  Month-to-month   \n",
            "3  34.062125, -118.315709  34.062125 -118.315709  Female  ...  Month-to-month   \n",
            "4  34.039224, -118.266293  34.039224 -118.266293    Male  ...  Month-to-month   \n",
            "\n",
            "  Paperless Billing             Payment Method  Monthly Charges Total Charges  \\\n",
            "0               Yes               Mailed check            53.85        108.15   \n",
            "1               Yes           Electronic check            70.70        151.65   \n",
            "2               Yes           Electronic check            99.65         820.5   \n",
            "3               Yes           Electronic check           104.80       3046.05   \n",
            "4               Yes  Bank transfer (automatic)           103.70        5036.3   \n",
            "\n",
            "  Churn Label Churn Value Churn Score  CLTV                   Churn Reason  \n",
            "0         Yes           1          86  3239   Competitor made better offer  \n",
            "1         Yes           1          67  2701                          Moved  \n",
            "2         Yes           1          86  5372                          Moved  \n",
            "3         Yes           1          84  5003                          Moved  \n",
            "4         Yes           1          89  5340  Competitor had better devices  \n",
            "\n",
            "[5 rows x 33 columns]\n",
            "<class 'pandas.core.frame.DataFrame'>\n",
            "RangeIndex: 7043 entries, 0 to 7042\n",
            "Data columns (total 33 columns):\n",
            " #   Column             Non-Null Count  Dtype  \n",
            "---  ------             --------------  -----  \n",
            " 0   CustomerID         7043 non-null   object \n",
            " 1   Count              7043 non-null   int64  \n",
            " 2   Country            7043 non-null   object \n",
            " 3   State              7043 non-null   object \n",
            " 4   City               7043 non-null   object \n",
            " 5   Zip Code           7043 non-null   int64  \n",
            " 6   Lat Long           7043 non-null   object \n",
            " 7   Latitude           7043 non-null   float64\n",
            " 8   Longitude          7043 non-null   float64\n",
            " 9   Gender             7043 non-null   object \n",
            " 10  Senior Citizen     7043 non-null   object \n",
            " 11  Partner            7043 non-null   object \n",
            " 12  Dependents         7043 non-null   object \n",
            " 13  Tenure Months      7043 non-null   int64  \n",
            " 14  Phone Service      7043 non-null   object \n",
            " 15  Multiple Lines     7043 non-null   object \n",
            " 16  Internet Service   7043 non-null   object \n",
            " 17  Online Security    7043 non-null   object \n",
            " 18  Online Backup      7043 non-null   object \n",
            " 19  Device Protection  7043 non-null   object \n",
            " 20  Tech Support       7043 non-null   object \n",
            " 21  Streaming TV       7043 non-null   object \n",
            " 22  Streaming Movies   7043 non-null   object \n",
            " 23  Contract           7043 non-null   object \n",
            " 24  Paperless Billing  7043 non-null   object \n",
            " 25  Payment Method     7043 non-null   object \n",
            " 26  Monthly Charges    7043 non-null   float64\n",
            " 27  Total Charges      7043 non-null   object \n",
            " 28  Churn Label        7043 non-null   object \n",
            " 29  Churn Value        7043 non-null   int64  \n",
            " 30  Churn Score        7043 non-null   int64  \n",
            " 31  CLTV               7043 non-null   int64  \n",
            " 32  Churn Reason       1869 non-null   object \n",
            "dtypes: float64(3), int64(6), object(24)\n",
            "memory usage: 1.8+ MB\n",
            "None\n",
            "33\n"
          ]
        }
      ],
      "source": [
        "import numpy as np\n",
        "import random\n",
        "import pandas as pd\n",
        "from sklearn.model_selection import train_test_split\n",
        "from sklearn.ensemble import RandomForestClassifier\n",
        "from sklearn.metrics import accuracy_score, classification_report, confusion_matrix\n",
        "from sklearn.preprocessing  import StandardScaler\n",
        "import joblib\n",
        "df= pd.read_excel('Telco_customer_churn.xlsx')\n",
        "print(df.head())\n",
        "print(df.info())\n",
        "print(df.isnull().sum().count())"
      ]
    },
    {
      "cell_type": "code",
      "source": [
        "\n",
        "df=pd.get_dummies(df, drop_first=True)\n",
        "X= df.drop('Churn Value', axis=1)\n",
        "Y= df['Churn Value']\n",
        "X_train, X_test, y_train, y_test = train_test_split(X, Y, test_size=0.2, random_state=42)\n",
        "#initializing feature scaling and random forest model\n",
        "scaler = StandardScaler()\n",
        "X_train = scaler.fit_transform(X_train)\n",
        "X_test = scaler.transform(X_test)\n",
        "rf_model = RandomForestClassifier(n_estimators=100 , random_state=42)\n",
        "rf_model.fit(X_train,y_train)\n",
        "y_pred= rf_model.predict(X_test)\n",
        "#Calculating accuracy and precision of the trained model\n",
        "print(\"CONFUSION MATRIX\")\n",
        "print(confusion_matrix(y_test, y_pred))\n",
        "print(\"CLASSIFICATION REPORT\")\n",
        "print(classification_report(y_test, y_pred))\n",
        "# savaing the trained model and the scaler\n",
        "joblib.dump(rf_model, 'rf_model.pkl')\n",
        "joblib.dump(scaler, 'scaler.pkl')"
      ],
      "metadata": {
        "id": "N4hbT7anqXnr",
        "colab": {
          "base_uri": "https://localhost:8080/"
        },
        "outputId": "d62bd647-5d2a-4907-80df-49f30724b318"
      },
      "execution_count": 12,
      "outputs": [
        {
          "output_type": "stream",
          "name": "stdout",
          "text": [
            "CONFUSION MATRIX\n",
            "[[1009    0]\n",
            " [   4  396]]\n",
            "CLASSIFICATION REPORT\n",
            "              precision    recall  f1-score   support\n",
            "\n",
            "           0       1.00      1.00      1.00      1009\n",
            "           1       1.00      0.99      0.99       400\n",
            "\n",
            "    accuracy                           1.00      1409\n",
            "   macro avg       1.00      0.99      1.00      1409\n",
            "weighted avg       1.00      1.00      1.00      1409\n",
            "\n"
          ]
        },
        {
          "output_type": "execute_result",
          "data": {
            "text/plain": [
              "['scaler.pkl']"
            ]
          },
          "metadata": {},
          "execution_count": 12
        }
      ]
    },
    {
      "cell_type": "code",
      "source": [
        "# CREATING USER PREDICTIONS\n",
        "def churn_prediction(user_input):\n",
        "  rf_model = joblib.load('rf_model.pkl')\n",
        "  scaler = joblib.load('scaler.pkl')\n",
        "#scaling the features to match the origial fetures\n",
        "  user_input = pd.get_dummies(user_input, drop_first=True)\n",
        "  user_input = user_input.reindex(columns=X.columns, fill_value=0)\n",
        "  user_input = scaler.transform(user_input)\n",
        "  prediction = rf_model.predict(user_input)\n",
        "  pred_prob= rf_model.predict_proba(user_input)\n",
        "  return prediction[0], pred_prob[0]"
      ],
      "metadata": {
        "id": "ttjmh0HT2fuu"
      },
      "execution_count": 50,
      "outputs": []
    },
    {
      "cell_type": "code",
      "source": [
        "# generating ranodom user inputs to simulate custom input\n",
        "def generate_random_user_input():\n",
        "\n",
        "#providing the ranges/vlues within the considerations of the dataset\n",
        "\n",
        "    genders = ['Male', 'Female']\n",
        "    partners = ['Yes', 'No']\n",
        "    dependents = ['Yes', 'No']\n",
        "    phone_service = ['Yes', 'No']\n",
        "    multiple_lines = ['Yes', 'No', 'No phone service']\n",
        "    internet_service = ['DSL', 'Fiber optic', 'No']\n",
        "    online_security = ['Yes', 'No', 'No internet service']\n",
        "    online_backup = ['Yes', 'No', 'No internet service']\n",
        "    device_protection = ['Yes', 'No', 'No internet service']\n",
        "    tech_support = ['Yes', 'No', 'No internet service']\n",
        "    streaming_tv = ['Yes', 'No', 'No internet service']\n",
        "    streaming_movies = ['Yes', 'No', 'No internet service']\n",
        "    contract = ['Month-to-month', 'One year', 'Two year']\n",
        "    paperless_billing = ['Yes', 'No']\n",
        "    payment_method = ['Electronic check', 'Mailed check', 'Bank transfer (automatic)', 'Credit card (automatic)']\n",
        "\n",
        "#selecting ramdom choices within the range of datset  attributes\n",
        "    user_input = {\n",
        "        'gender': random.choice(genders),\n",
        "        'SeniorCitizen': random.randint(0, 1),\n",
        "        'Partner': random.choice(partners),\n",
        "        'Dependents': random.choice(dependents),\n",
        "        'tenure': random.randint(1, 72),\n",
        "        'PhoneService': random.choice(phone_service),\n",
        "        'MultipleLines': random.choice(multiple_lines),\n",
        "        'InternetService': random.choice(internet_service),\n",
        "        'OnlineSecurity': random.choice(online_security),\n",
        "        'OnlineBackup': random.choice(online_backup),\n",
        "        'DeviceProtection': random.choice(device_protection),\n",
        "        'TechSupport': random.choice(tech_support),\n",
        "        'StreamingTV': random.choice(streaming_tv),\n",
        "        'StreamingMovies': random.choice(streaming_movies),\n",
        "        'Contract': random.choice(contract),\n",
        "        'PaperlessBilling': random.choice(paperless_billing),\n",
        "        'PaymentMethod': random.choice(payment_method),\n",
        "        'MonthlyCharges': round(random.uniform(18.25, 118.75), 2),\n",
        "        'TotalCharges': round(random.uniform(18.25, 8684.80), 2)\n",
        "    }\n",
        "    print(user_input)\n",
        "    return user_input\n",
        "\n",
        "ui1 = generate_random_user_input()\n",
        "ui2 = generate_random_user_input()\n",
        "ui3 = generate_random_user_input()\n",
        "ui4 = generate_random_user_input()"
      ],
      "metadata": {
        "id": "1qumehFkY_VV",
        "colab": {
          "base_uri": "https://localhost:8080/"
        },
        "outputId": "92297e49-4d96-4ecd-b6b0-ffb9d5162f88"
      },
      "execution_count": 55,
      "outputs": [
        {
          "output_type": "stream",
          "name": "stdout",
          "text": [
            "{'gender': 'Female', 'SeniorCitizen': 1, 'Partner': 'Yes', 'Dependents': 'Yes', 'tenure': 63, 'PhoneService': 'Yes', 'MultipleLines': 'No', 'InternetService': 'No', 'OnlineSecurity': 'Yes', 'OnlineBackup': 'No', 'DeviceProtection': 'Yes', 'TechSupport': 'No', 'StreamingTV': 'No', 'StreamingMovies': 'Yes', 'Contract': 'Two year', 'PaperlessBilling': 'No', 'PaymentMethod': 'Mailed check', 'MonthlyCharges': 25.77, 'TotalCharges': 1674.53}\n",
            "{'gender': 'Female', 'SeniorCitizen': 1, 'Partner': 'No', 'Dependents': 'No', 'tenure': 26, 'PhoneService': 'No', 'MultipleLines': 'No phone service', 'InternetService': 'No', 'OnlineSecurity': 'No internet service', 'OnlineBackup': 'No internet service', 'DeviceProtection': 'Yes', 'TechSupport': 'Yes', 'StreamingTV': 'Yes', 'StreamingMovies': 'Yes', 'Contract': 'Two year', 'PaperlessBilling': 'Yes', 'PaymentMethod': 'Credit card (automatic)', 'MonthlyCharges': 42.06, 'TotalCharges': 620.1}\n",
            "{'gender': 'Female', 'SeniorCitizen': 0, 'Partner': 'No', 'Dependents': 'Yes', 'tenure': 40, 'PhoneService': 'No', 'MultipleLines': 'No', 'InternetService': 'No', 'OnlineSecurity': 'No internet service', 'OnlineBackup': 'No internet service', 'DeviceProtection': 'Yes', 'TechSupport': 'Yes', 'StreamingTV': 'Yes', 'StreamingMovies': 'Yes', 'Contract': 'Month-to-month', 'PaperlessBilling': 'No', 'PaymentMethod': 'Credit card (automatic)', 'MonthlyCharges': 85.91, 'TotalCharges': 8176.56}\n",
            "{'gender': 'Female', 'SeniorCitizen': 0, 'Partner': 'No', 'Dependents': 'Yes', 'tenure': 58, 'PhoneService': 'No', 'MultipleLines': 'No', 'InternetService': 'No', 'OnlineSecurity': 'Yes', 'OnlineBackup': 'No internet service', 'DeviceProtection': 'Yes', 'TechSupport': 'No internet service', 'StreamingTV': 'No internet service', 'StreamingMovies': 'Yes', 'Contract': 'Month-to-month', 'PaperlessBilling': 'Yes', 'PaymentMethod': 'Bank transfer (automatic)', 'MonthlyCharges': 69.12, 'TotalCharges': 8385.38}\n"
          ]
        }
      ]
    },
    {
      "cell_type": "code",
      "source": [
        "print(churn_prediction(ui1))\n",
        "print(churn_prediction(ui2))\n",
        "print(churn_prediction(ui3))\n",
        "print(churn_prediction(ui4))"
      ],
      "metadata": {
        "colab": {
          "base_uri": "https://localhost:8080/"
        },
        "id": "mRxHT7LKYkVN",
        "outputId": "55b01eeb-276b-4830-ef45-8ad370d0dd81"
      },
      "execution_count": 57,
      "outputs": [
        {
          "output_type": "stream",
          "name": "stdout",
          "text": [
            "(0, array([0.78, 0.22]))\n",
            "(0, array([0.78, 0.22]))\n",
            "(0, array([0.78, 0.22]))\n",
            "(0, array([0.78, 0.22]))\n"
          ]
        }
      ]
    },
    {
      "cell_type": "code",
      "source": [],
      "metadata": {
        "id": "GESY1z_MZ-7O"
      },
      "execution_count": null,
      "outputs": []
    }
  ]
}