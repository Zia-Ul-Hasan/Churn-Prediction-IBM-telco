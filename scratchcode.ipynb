{
  "nbformat": 4,
  "nbformat_minor": 0,
  "metadata": {
    "colab": {
      "provenance": [],
      "authorship_tag": "ABX9TyNkrqfORZa2M6oIPTX/F8ZT",
      "include_colab_link": true
    },
    "kernelspec": {
      "name": "python3",
      "display_name": "Python 3"
    },
    "language_info": {
      "name": "python"
    }
  },
  "cells": [
    {
      "cell_type": "markdown",
      "metadata": {
        "id": "view-in-github",
        "colab_type": "text"
      },
      "source": [
        "<a href=\"https://colab.research.google.com/github/Zia-Ul-Hasan/Churn-Prediction-IBM-telco/blob/main/scratchcode.ipynb\" target=\"_parent\"><img src=\"https://colab.research.google.com/assets/colab-badge.svg\" alt=\"Open In Colab\"/></a>"
      ]
    },
    {
      "cell_type": "code",
      "execution_count": 98,
      "metadata": {
        "colab": {
          "base_uri": "https://localhost:8080/"
        },
        "id": "I2jU71xVuKeT",
        "outputId": "2caf2687-9c8e-48c3-f781-cedef4fde1a4"
      },
      "outputs": [
        {
          "output_type": "stream",
          "name": "stdout",
          "text": [
            "<class 'pandas.core.frame.DataFrame'>\n",
            "RangeIndex: 7043 entries, 0 to 7042\n",
            "Data columns (total 33 columns):\n",
            " #   Column             Non-Null Count  Dtype  \n",
            "---  ------             --------------  -----  \n",
            " 0   CustomerID         7043 non-null   object \n",
            " 1   Count              7043 non-null   int64  \n",
            " 2   Country            7043 non-null   object \n",
            " 3   State              7043 non-null   object \n",
            " 4   City               7043 non-null   object \n",
            " 5   Zip Code           7043 non-null   int64  \n",
            " 6   Lat Long           7043 non-null   object \n",
            " 7   Latitude           7043 non-null   float64\n",
            " 8   Longitude          7043 non-null   float64\n",
            " 9   Gender             7043 non-null   object \n",
            " 10  Senior Citizen     7043 non-null   object \n",
            " 11  Partner            7043 non-null   object \n",
            " 12  Dependents         7043 non-null   object \n",
            " 13  Tenure Months      7043 non-null   int64  \n",
            " 14  Phone Service      7043 non-null   object \n",
            " 15  Multiple Lines     7043 non-null   object \n",
            " 16  Internet Service   7043 non-null   object \n",
            " 17  Online Security    7043 non-null   object \n",
            " 18  Online Backup      7043 non-null   object \n",
            " 19  Device Protection  7043 non-null   object \n",
            " 20  Tech Support       7043 non-null   object \n",
            " 21  Streaming TV       7043 non-null   object \n",
            " 22  Streaming Movies   7043 non-null   object \n",
            " 23  Contract           7043 non-null   object \n",
            " 24  Paperless Billing  7043 non-null   object \n",
            " 25  Payment Method     7043 non-null   object \n",
            " 26  Monthly Charges    7043 non-null   float64\n",
            " 27  Total Charges      7043 non-null   object \n",
            " 28  Churn Label        7043 non-null   object \n",
            " 29  Churn Value        7043 non-null   int64  \n",
            " 30  Churn Score        7043 non-null   int64  \n",
            " 31  CLTV               7043 non-null   int64  \n",
            " 32  Churn Reason       1869 non-null   object \n",
            "dtypes: float64(3), int64(6), object(24)\n",
            "memory usage: 1.8+ MB\n",
            "None\n",
            "<class 'pandas.core.frame.DataFrame'>\n",
            "RangeIndex: 7043 entries, 0 to 7042\n",
            "Data columns (total 23 columns):\n",
            " #   Column             Non-Null Count  Dtype  \n",
            "---  ------             --------------  -----  \n",
            " 0   Gender             7043 non-null   object \n",
            " 1   Senior Citizen     7043 non-null   object \n",
            " 2   Partner            7043 non-null   object \n",
            " 3   Dependents         7043 non-null   object \n",
            " 4   Tenure Months      7043 non-null   int64  \n",
            " 5   Phone Service      7043 non-null   object \n",
            " 6   Multiple Lines     7043 non-null   object \n",
            " 7   Internet Service   7043 non-null   object \n",
            " 8   Online Security    7043 non-null   object \n",
            " 9   Online Backup      7043 non-null   object \n",
            " 10  Device Protection  7043 non-null   object \n",
            " 11  Tech Support       7043 non-null   object \n",
            " 12  Streaming TV       7043 non-null   object \n",
            " 13  Streaming Movies   7043 non-null   object \n",
            " 14  Contract           7043 non-null   object \n",
            " 15  Paperless Billing  7043 non-null   object \n",
            " 16  Payment Method     7043 non-null   object \n",
            " 17  Monthly Charges    7043 non-null   float64\n",
            " 18  Total Charges      7043 non-null   object \n",
            " 19  Churn Label        7043 non-null   object \n",
            " 20  Churn Value        7043 non-null   int64  \n",
            " 21  CLTV               7043 non-null   int64  \n",
            " 22  Churn Reason       1869 non-null   object \n",
            "dtypes: float64(1), int64(3), object(19)\n",
            "memory usage: 1.2+ MB\n",
            "None\n"
          ]
        }
      ],
      "source": [
        "import pandas as pd\n",
        "import numpy as np\n",
        "import joblib\n",
        "import random\n",
        "from sklearn.preprocessing import StandardScaler\n",
        "from sklearn.preprocessing import OneHotEncoder\n",
        "from sklearn.ensemble import RandomForestClassifier\n",
        "from sklearn.model_selection import train_test_split\n",
        "path='/content/Telco_customer_churn.xlsx'\n",
        "df = pd.read_excel(path)\n",
        "print (df.info())\n",
        "df= df.drop(['CustomerID','Country','Count','State','Zip Code','Lat Long','Longitude','Latitude','City', 'Churn Score'], axis=1)\n",
        "print (df.info())"
      ]
    },
    {
      "cell_type": "code",
      "source": [
        "\n",
        "\n",
        "def replace_t (df) : # python also  has a replace ftn  that an be used\n",
        " for element1 in df:\n",
        "  for element2 in range(len(df[element1])):\n",
        "    if df[element1][element2] == 'No internet service' or df[element1][element2] == 'No phone service':\n",
        "      df[element1][element2] == 'No'\n",
        "    else:\n",
        "     return None\n",
        " return df"
      ],
      "metadata": {
        "id": "-DY3E4CaE-md"
      },
      "execution_count": 99,
      "outputs": []
    },
    {
      "cell_type": "code",
      "source": [
        "def unique_values_col (df):\n",
        " for column in df:\n",
        "  if df[column].dtypes=='object':\n",
        "   print(f'{column} : {df[column].unique()}')\n",
        "\n",
        " return None\n",
        "print(unique_values_col(df))"
      ],
      "metadata": {
        "id": "dXNT24FaXYsS",
        "colab": {
          "base_uri": "https://localhost:8080/"
        },
        "outputId": "51c6699f-bda4-4a8f-c88c-141292daf4c1"
      },
      "execution_count": 100,
      "outputs": [
        {
          "output_type": "stream",
          "name": "stdout",
          "text": [
            "Gender : ['Male' 'Female']\n",
            "Senior Citizen : ['No' 'Yes']\n",
            "Partner : ['No' 'Yes']\n",
            "Dependents : ['No' 'Yes']\n",
            "Phone Service : ['Yes' 'No']\n",
            "Multiple Lines : ['No' 'Yes' 'No phone service']\n",
            "Internet Service : ['DSL' 'Fiber optic' 'No']\n",
            "Online Security : ['Yes' 'No' 'No internet service']\n",
            "Online Backup : ['Yes' 'No' 'No internet service']\n",
            "Device Protection : ['No' 'Yes' 'No internet service']\n",
            "Tech Support : ['No' 'Yes' 'No internet service']\n",
            "Streaming TV : ['No' 'Yes' 'No internet service']\n",
            "Streaming Movies : ['No' 'Yes' 'No internet service']\n",
            "Contract : ['Month-to-month' 'Two year' 'One year']\n",
            "Paperless Billing : ['Yes' 'No']\n",
            "Payment Method : ['Mailed check' 'Electronic check' 'Bank transfer (automatic)'\n",
            " 'Credit card (automatic)']\n",
            "Total Charges : [108.15 151.65 820.5 ... 7362.9 346.45 6844.5]\n",
            "Churn Label : ['Yes' 'No']\n",
            "Churn Reason : ['Competitor made better offer' 'Moved' 'Competitor had better devices'\n",
            " 'Competitor offered higher download speeds'\n",
            " 'Competitor offered more data' 'Price too high' 'Product dissatisfaction'\n",
            " 'Service dissatisfaction' 'Lack of self-service on Website'\n",
            " 'Network reliability' 'Limited range of services'\n",
            " 'Lack of affordable download/upload speed' 'Long distance charges'\n",
            " 'Extra data charges' \"Don't know\" 'Poor expertise of online support'\n",
            " 'Poor expertise of phone support' 'Attitude of service provider'\n",
            " 'Attitude of support person' 'Deceased' nan]\n",
            "None\n"
          ]
        }
      ]
    },
    {
      "cell_type": "code",
      "source": [
        "df = replace_t(df)\n",
        "print(unique_values_col(df))"
      ],
      "metadata": {
        "colab": {
          "base_uri": "https://localhost:8080/",
          "height": 280
        },
        "id": "iIXd4wbxcNUT",
        "outputId": "9e5951f5-7a60-4676-d7d9-6ae26e858322"
      },
      "execution_count": 101,
      "outputs": [
        {
          "output_type": "error",
          "ename": "TypeError",
          "evalue": "'NoneType' object is not iterable",
          "traceback": [
            "\u001b[0;31m---------------------------------------------------------------------------\u001b[0m",
            "\u001b[0;31mTypeError\u001b[0m                                 Traceback (most recent call last)",
            "\u001b[0;32m<ipython-input-101-09f930efb31f>\u001b[0m in \u001b[0;36m<cell line: 2>\u001b[0;34m()\u001b[0m\n\u001b[1;32m      1\u001b[0m \u001b[0mdf\u001b[0m \u001b[0;34m=\u001b[0m \u001b[0mreplace_t\u001b[0m\u001b[0;34m(\u001b[0m\u001b[0mdf\u001b[0m\u001b[0;34m)\u001b[0m\u001b[0;34m\u001b[0m\u001b[0;34m\u001b[0m\u001b[0m\n\u001b[0;32m----> 2\u001b[0;31m \u001b[0mprint\u001b[0m\u001b[0;34m(\u001b[0m\u001b[0munique_values_col\u001b[0m\u001b[0;34m(\u001b[0m\u001b[0mdf\u001b[0m\u001b[0;34m)\u001b[0m\u001b[0;34m)\u001b[0m\u001b[0;34m\u001b[0m\u001b[0;34m\u001b[0m\u001b[0m\n\u001b[0m",
            "\u001b[0;32m<ipython-input-100-f427f801af52>\u001b[0m in \u001b[0;36munique_values_col\u001b[0;34m(df)\u001b[0m\n\u001b[1;32m      1\u001b[0m \u001b[0;32mdef\u001b[0m \u001b[0munique_values_col\u001b[0m \u001b[0;34m(\u001b[0m\u001b[0mdf\u001b[0m\u001b[0;34m)\u001b[0m\u001b[0;34m:\u001b[0m\u001b[0;34m\u001b[0m\u001b[0;34m\u001b[0m\u001b[0m\n\u001b[0;32m----> 2\u001b[0;31m  \u001b[0;32mfor\u001b[0m \u001b[0mcolumn\u001b[0m \u001b[0;32min\u001b[0m \u001b[0mdf\u001b[0m\u001b[0;34m:\u001b[0m\u001b[0;34m\u001b[0m\u001b[0;34m\u001b[0m\u001b[0m\n\u001b[0m\u001b[1;32m      3\u001b[0m   \u001b[0;32mif\u001b[0m \u001b[0mdf\u001b[0m\u001b[0;34m[\u001b[0m\u001b[0mcolumn\u001b[0m\u001b[0;34m]\u001b[0m\u001b[0;34m.\u001b[0m\u001b[0mdtypes\u001b[0m\u001b[0;34m==\u001b[0m\u001b[0;34m'object'\u001b[0m\u001b[0;34m:\u001b[0m\u001b[0;34m\u001b[0m\u001b[0;34m\u001b[0m\u001b[0m\n\u001b[1;32m      4\u001b[0m    \u001b[0mprint\u001b[0m\u001b[0;34m(\u001b[0m\u001b[0;34mf'{column} : {df[column].unique()}'\u001b[0m\u001b[0;34m)\u001b[0m\u001b[0;34m\u001b[0m\u001b[0;34m\u001b[0m\u001b[0m\n\u001b[1;32m      5\u001b[0m \u001b[0;34m\u001b[0m\u001b[0m\n",
            "\u001b[0;31mTypeError\u001b[0m: 'NoneType' object is not iterable"
          ]
        }
      ]
    },
    {
      "cell_type": "markdown",
      "source": [],
      "metadata": {
        "id": "fTbgTiziHzbE"
      }
    },
    {
      "cell_type": "code",
      "source": [
        "df.to_csv('prcessed_telco_train.csv')"
      ],
      "metadata": {
        "id": "8YO0FB0rX7zn"
      },
      "execution_count": null,
      "outputs": []
    }
  ]
}