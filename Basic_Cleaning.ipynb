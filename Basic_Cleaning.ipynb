{
  "nbformat": 4,
  "nbformat_minor": 0,
  "metadata": {
    "colab": {
      "provenance": [],
      "authorship_tag": "ABX9TyNO36uGKGpgcdSsj3r4G2Xn",
      "include_colab_link": true
    },
    "kernelspec": {
      "name": "python3",
      "display_name": "Python 3"
    },
    "language_info": {
      "name": "python"
    }
  },
  "cells": [
    {
      "cell_type": "markdown",
      "metadata": {
        "id": "view-in-github",
        "colab_type": "text"
      },
      "source": [
        "<a href=\"https://colab.research.google.com/github/Zia-Ul-Hasan/Churn-Prediction-IBM-telco/blob/main/Basic_Cleaning.ipynb\" target=\"_parent\"><img src=\"https://colab.research.google.com/assets/colab-badge.svg\" alt=\"Open In Colab\"/></a>"
      ]
    },
    {
      "cell_type": "code",
      "execution_count": 1,
      "metadata": {
        "id": "TMDjUV13VS67"
      },
      "outputs": [],
      "source": [
        "import numpy as np\n",
        "import pandas as pd\n",
        "import matplotlib.pyplot as plt\n",
        "import seaborn as sn"
      ]
    },
    {
      "cell_type": "code",
      "source": [
        "df=pd.read_excel(\"Telco_customer_churn.xlsx\")"
      ],
      "metadata": {
        "id": "03HSnPMOVkR1"
      },
      "execution_count": 8,
      "outputs": []
    },
    {
      "cell_type": "code",
      "source": [
        "\n",
        "print(df.describe)"
      ],
      "metadata": {
        "colab": {
          "base_uri": "https://localhost:8080/"
        },
        "id": "WKTmv6TvW4Wk",
        "outputId": "ecba74e2-a31a-41dc-e191-349e61123d0a"
      },
      "execution_count": 11,
      "outputs": [
        {
          "output_type": "stream",
          "name": "stdout",
          "text": [
            "<bound method NDFrame.describe of       CustomerID  Count        Country       State          City  Zip Code  \\\n",
            "0     3668-QPYBK      1  United States  California   Los Angeles     90003   \n",
            "1     9237-HQITU      1  United States  California   Los Angeles     90005   \n",
            "2     9305-CDSKC      1  United States  California   Los Angeles     90006   \n",
            "3     7892-POOKP      1  United States  California   Los Angeles     90010   \n",
            "4     0280-XJGEX      1  United States  California   Los Angeles     90015   \n",
            "...          ...    ...            ...         ...           ...       ...   \n",
            "7038  2569-WGERO      1  United States  California       Landers     92285   \n",
            "7039  6840-RESVB      1  United States  California      Adelanto     92301   \n",
            "7040  2234-XADUH      1  United States  California         Amboy     92304   \n",
            "7041  4801-JZAZL      1  United States  California  Angelus Oaks     92305   \n",
            "7042  3186-AJIEK      1  United States  California  Apple Valley     92308   \n",
            "\n",
            "                    Lat Long   Latitude   Longitude  Gender  ...  \\\n",
            "0     33.964131, -118.272783  33.964131 -118.272783    Male  ...   \n",
            "1      34.059281, -118.30742  34.059281 -118.307420  Female  ...   \n",
            "2     34.048013, -118.293953  34.048013 -118.293953  Female  ...   \n",
            "3     34.062125, -118.315709  34.062125 -118.315709  Female  ...   \n",
            "4     34.039224, -118.266293  34.039224 -118.266293    Male  ...   \n",
            "...                      ...        ...         ...     ...  ...   \n",
            "7038  34.341737, -116.539416  34.341737 -116.539416  Female  ...   \n",
            "7039  34.667815, -117.536183  34.667815 -117.536183    Male  ...   \n",
            "7040  34.559882, -115.637164  34.559882 -115.637164  Female  ...   \n",
            "7041     34.1678, -116.86433  34.167800 -116.864330  Female  ...   \n",
            "7042  34.424926, -117.184503  34.424926 -117.184503    Male  ...   \n",
            "\n",
            "            Contract Paperless Billing             Payment Method  \\\n",
            "0     Month-to-month               Yes               Mailed check   \n",
            "1     Month-to-month               Yes           Electronic check   \n",
            "2     Month-to-month               Yes           Electronic check   \n",
            "3     Month-to-month               Yes           Electronic check   \n",
            "4     Month-to-month               Yes  Bank transfer (automatic)   \n",
            "...              ...               ...                        ...   \n",
            "7038        Two year               Yes  Bank transfer (automatic)   \n",
            "7039        One year               Yes               Mailed check   \n",
            "7040        One year               Yes    Credit card (automatic)   \n",
            "7041  Month-to-month               Yes           Electronic check   \n",
            "7042        Two year               Yes  Bank transfer (automatic)   \n",
            "\n",
            "      Monthly Charges Total Charges Churn Label Churn Value Churn Score  CLTV  \\\n",
            "0               53.85        108.15         Yes           1          86  3239   \n",
            "1               70.70        151.65         Yes           1          67  2701   \n",
            "2               99.65         820.5         Yes           1          86  5372   \n",
            "3              104.80       3046.05         Yes           1          84  5003   \n",
            "4              103.70        5036.3         Yes           1          89  5340   \n",
            "...               ...           ...         ...         ...         ...   ...   \n",
            "7038            21.15        1419.4          No           0          45  5306   \n",
            "7039            84.80        1990.5          No           0          59  2140   \n",
            "7040           103.20        7362.9          No           0          71  5560   \n",
            "7041            29.60        346.45          No           0          59  2793   \n",
            "7042           105.65        6844.5          No           0          38  5097   \n",
            "\n",
            "                       Churn Reason  \n",
            "0      Competitor made better offer  \n",
            "1                             Moved  \n",
            "2                             Moved  \n",
            "3                             Moved  \n",
            "4     Competitor had better devices  \n",
            "...                             ...  \n",
            "7038                            NaN  \n",
            "7039                            NaN  \n",
            "7040                            NaN  \n",
            "7041                            NaN  \n",
            "7042                            NaN  \n",
            "\n",
            "[7043 rows x 33 columns]>\n"
          ]
        }
      ]
    },
    {
      "cell_type": "code",
      "source": [
        "df.info()"
      ],
      "metadata": {
        "colab": {
          "base_uri": "https://localhost:8080/"
        },
        "id": "0Xqt7ldKXcLS",
        "outputId": "44d369b7-79a1-4454-ef27-3068ba956a22"
      },
      "execution_count": 12,
      "outputs": [
        {
          "output_type": "stream",
          "name": "stdout",
          "text": [
            "<class 'pandas.core.frame.DataFrame'>\n",
            "RangeIndex: 7043 entries, 0 to 7042\n",
            "Data columns (total 33 columns):\n",
            " #   Column             Non-Null Count  Dtype  \n",
            "---  ------             --------------  -----  \n",
            " 0   CustomerID         7043 non-null   object \n",
            " 1   Count              7043 non-null   int64  \n",
            " 2   Country            7043 non-null   object \n",
            " 3   State              7043 non-null   object \n",
            " 4   City               7043 non-null   object \n",
            " 5   Zip Code           7043 non-null   int64  \n",
            " 6   Lat Long           7043 non-null   object \n",
            " 7   Latitude           7043 non-null   float64\n",
            " 8   Longitude          7043 non-null   float64\n",
            " 9   Gender             7043 non-null   object \n",
            " 10  Senior Citizen     7043 non-null   object \n",
            " 11  Partner            7043 non-null   object \n",
            " 12  Dependents         7043 non-null   object \n",
            " 13  Tenure Months      7043 non-null   int64  \n",
            " 14  Phone Service      7043 non-null   object \n",
            " 15  Multiple Lines     7043 non-null   object \n",
            " 16  Internet Service   7043 non-null   object \n",
            " 17  Online Security    7043 non-null   object \n",
            " 18  Online Backup      7043 non-null   object \n",
            " 19  Device Protection  7043 non-null   object \n",
            " 20  Tech Support       7043 non-null   object \n",
            " 21  Streaming TV       7043 non-null   object \n",
            " 22  Streaming Movies   7043 non-null   object \n",
            " 23  Contract           7043 non-null   object \n",
            " 24  Paperless Billing  7043 non-null   object \n",
            " 25  Payment Method     7043 non-null   object \n",
            " 26  Monthly Charges    7043 non-null   float64\n",
            " 27  Total Charges      7043 non-null   object \n",
            " 28  Churn Label        7043 non-null   object \n",
            " 29  Churn Value        7043 non-null   int64  \n",
            " 30  Churn Score        7043 non-null   int64  \n",
            " 31  CLTV               7043 non-null   int64  \n",
            " 32  Churn Reason       1869 non-null   object \n",
            "dtypes: float64(3), int64(6), object(24)\n",
            "memory usage: 1.8+ MB\n"
          ]
        }
      ]
    },
    {
      "cell_type": "code",
      "source": [
        "df.drop(['CustomerID','Count','Country','CLTV','Churn Score'], axis=1 ,inplace=True)"
      ],
      "metadata": {
        "id": "IDr7xqTKX4jD"
      },
      "execution_count": 14,
      "outputs": []
    },
    {
      "cell_type": "code",
      "source": [
        "cols['Total Charges',]\n",
        "df[cols]=df[cols].apply(pd_to_numeric,errors='coerce')"
      ],
      "metadata": {
        "id": "H79hGJpPZjaT"
      },
      "execution_count": null,
      "outputs": []
    }
  ]
}