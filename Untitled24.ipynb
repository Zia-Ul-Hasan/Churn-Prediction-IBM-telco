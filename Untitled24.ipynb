{
  "nbformat": 4,
  "nbformat_minor": 0,
  "metadata": {
    "colab": {
      "provenance": [],
      "authorship_tag": "ABX9TyMvVneDB4zKrRqCC4jZzmV3",
      "include_colab_link": true
    },
    "kernelspec": {
      "name": "python3",
      "display_name": "Python 3"
    },
    "language_info": {
      "name": "python"
    }
  },
  "cells": [
    {
      "cell_type": "markdown",
      "metadata": {
        "id": "view-in-github",
        "colab_type": "text"
      },
      "source": [
        "<a href=\"https://colab.research.google.com/github/Zia-Ul-Hasan/Churn-Prediction-IBM-telco/blob/main/Untitled24.ipynb\" target=\"_parent\"><img src=\"https://colab.research.google.com/assets/colab-badge.svg\" alt=\"Open In Colab\"/></a>"
      ]
    },
    {
      "cell_type": "code",
      "execution_count": 18,
      "metadata": {
        "colab": {
          "base_uri": "https://localhost:8080/"
        },
        "id": "Ds5eslwBvl_K",
        "outputId": "cc47cbcb-94b3-4f4b-de5c-88b5a29d49ec"
      },
      "outputs": [
        {
          "output_type": "stream",
          "name": "stdout",
          "text": [
            "City                 0\n",
            "Gender               0\n",
            "Senior Citizen       0\n",
            "Partner              0\n",
            "Dependents           0\n",
            "Tenure Months        0\n",
            "Phone Service        0\n",
            "Multiple Lines       0\n",
            "Internet Service     0\n",
            "Online Security      0\n",
            "Online Backup        0\n",
            "Device Protection    0\n",
            "Tech Support         0\n",
            "Streaming TV         0\n",
            "Streaming Movies     0\n",
            "Contract             0\n",
            "Paperless Billing    0\n",
            "Payment Method       0\n",
            "Monthly Charges      0\n",
            "Total Charges        0\n",
            "Churn Value          0\n",
            "CLTV                 0\n",
            "dtype: int64\n",
            "City                  object\n",
            "Gender                object\n",
            "Senior Citizen        object\n",
            "Partner               object\n",
            "Dependents            object\n",
            "Tenure Months          int64\n",
            "Phone Service         object\n",
            "Multiple Lines        object\n",
            "Internet Service      object\n",
            "Online Security       object\n",
            "Online Backup         object\n",
            "Device Protection     object\n",
            "Tech Support          object\n",
            "Streaming TV          object\n",
            "Streaming Movies      object\n",
            "Contract              object\n",
            "Paperless Billing     object\n",
            "Payment Method        object\n",
            "Monthly Charges      float64\n",
            "Total Charges        float64\n",
            "Churn Value            int64\n",
            "CLTV                 float64\n",
            "dtype: object\n"
          ]
        }
      ],
      "source": [
        "import pandas as pd\n",
        "import numpy as np\n",
        "from sklearn import metrics\n",
        "from imblearn.combine import SMOTETomek\n",
        "from imblearn.over_sampling import ADASYN\n",
        "from sklearn.preprocessing import LabelEncoder\n",
        "from sklearn.preprocessing import StandardScaler\n",
        "from sklearn.model_selection import GridSearchCV\n",
        "from sklearn.ensemble import RandomForestClassifier\n",
        "from sklearn.linear_model import LogisticRegression\n",
        "from sklearn.model_selection import train_test_split\n",
        "from imblearn.ensemble import BalancedRandomForestClassifier\n",
        "from sklearn.metrics import confusion_matrix, classification_report, accuracy_score\n",
        "\n",
        "\n",
        "# Load the dataset\n",
        "path = 'Telco_customer_churn.xlsx'\n",
        "df = pd.read_excel(path)\n",
        "def replace_t(df):\n",
        "    df.replace({'No internet service': 'No', 'No phone service': 'No'}, inplace=True)\n",
        "    return df\n",
        "\n",
        "df = replace_t(df)\n",
        "\n",
        "# Convert data types\n",
        "df['Monthly Charges'] = df['Monthly Charges'].astype(float)\n",
        "df['CLTV'] = df['CLTV'].astype(float)\n",
        "df['Total Charges'] = pd.to_numeric(df['Total Charges'], errors='coerce')\n",
        "df['Tenure Months'] = pd.to_numeric(df['Tenure Months'], errors='coerce')\n",
        "df['Churn Value'] = pd.to_numeric(df['Churn Value'], errors='coerce')\n",
        "# Dropping unnecessary columns\n",
        "df = df.drop(['CustomerID', 'Country', 'Count', 'State', 'Zip Code', 'Lat Long', 'Longitude', 'Latitude', 'Churn Score', 'Churn Label','Churn Reason'], axis=1)\n",
        "# Remove rows with missing Total Charges\n",
        "df = df.dropna(subset=['Total Charges'])\n",
        "print(df.isnull().sum())\n",
        "print(df.dtypes)"
      ]
    },
    {
      "cell_type": "code",
      "source": [
        "#variable encoding\n",
        "x =df.drop('Churn Value',axis =1)\n",
        "y= df['Churn Value']\n",
        "pd.DataFrame(y)\n",
        "\n",
        "num_col = []\n",
        "LE_col = ['City']\n",
        "OE_col = []\n",
        "for col in x.columns:\n",
        "    if pd.api.types.is_numeric_dtype(x[col]):\n",
        "        num_col.append(col)\n",
        "    else :\n",
        "        OE_col.append(col)\n",
        "#only city feature would be label encoded due to hight number of uniques values // it non ordinal\n",
        "OE_col.remove('City')\n",
        "\n",
        "# One-hot encoding function\n",
        "def one_hot_encode_columns(df, columns):\n",
        "    for column in columns:\n",
        "        one_hot = pd.get_dummies(df[column], prefix=column)\n",
        "        df = df.drop(column, axis=1)\n",
        "        df = pd.concat([df, one_hot], axis=1)\n",
        "    return df\n",
        "\n",
        "# Label encoding function\n",
        "LE = LabelEncoder()\n",
        "def label_encode_columns(df, columns):\n",
        "    for col in columns:\n",
        "        df[col] = LE.fit_transform(df[col])\n",
        "    return df\n",
        "\n",
        "x= one_hot_encode_columns(x, OE_col)\n",
        "x= label_encode_columns(x, LE_col)\n",
        "print (x.dtypes)\n",
        "\n",
        "\n",
        "\n",
        "#standardizing values\n",
        "scaler = StandardScaler()\n",
        "x[num_col] = scaler.fit_transform(x[num_col])\n"
      ],
      "metadata": {
        "colab": {
          "base_uri": "https://localhost:8080/"
        },
        "id": "05Fl8dzR18bL",
        "outputId": "b4497f88-5f76-451e-bde3-e0e425ffb43d"
      },
      "execution_count": 20,
      "outputs": [
        {
          "output_type": "stream",
          "name": "stdout",
          "text": [
            "City                                          int64\n",
            "Tenure Months                                 int64\n",
            "Monthly Charges                             float64\n",
            "Total Charges                               float64\n",
            "CLTV                                        float64\n",
            "Gender_Female                                  bool\n",
            "Gender_Male                                    bool\n",
            "Senior Citizen_No                              bool\n",
            "Senior Citizen_Yes                             bool\n",
            "Partner_No                                     bool\n",
            "Partner_Yes                                    bool\n",
            "Dependents_No                                  bool\n",
            "Dependents_Yes                                 bool\n",
            "Phone Service_No                               bool\n",
            "Phone Service_Yes                              bool\n",
            "Multiple Lines_No                              bool\n",
            "Multiple Lines_Yes                             bool\n",
            "Internet Service_DSL                           bool\n",
            "Internet Service_Fiber optic                   bool\n",
            "Internet Service_No                            bool\n",
            "Online Security_No                             bool\n",
            "Online Security_Yes                            bool\n",
            "Online Backup_No                               bool\n",
            "Online Backup_Yes                              bool\n",
            "Device Protection_No                           bool\n",
            "Device Protection_Yes                          bool\n",
            "Tech Support_No                                bool\n",
            "Tech Support_Yes                               bool\n",
            "Streaming TV_No                                bool\n",
            "Streaming TV_Yes                               bool\n",
            "Streaming Movies_No                            bool\n",
            "Streaming Movies_Yes                           bool\n",
            "Contract_Month-to-month                        bool\n",
            "Contract_One year                              bool\n",
            "Contract_Two year                              bool\n",
            "Paperless Billing_No                           bool\n",
            "Paperless Billing_Yes                          bool\n",
            "Payment Method_Bank transfer (automatic)       bool\n",
            "Payment Method_Credit card (automatic)         bool\n",
            "Payment Method_Electronic check                bool\n",
            "Payment Method_Mailed check                    bool\n",
            "dtype: object\n"
          ]
        }
      ]
    },
    {
      "cell_type": "code",
      "source": [
        "from sklearn.feature_selection import mutual_info_classif\n",
        "\n",
        "importances = mutual_info_classif(x, y)\n",
        "\n",
        "# Creating a Series for feature importances\n",
        "feat_importances = pd.Series(importances, index=x.columns)\n",
        "\n",
        "# Sorting the feature importances for better readability\n",
        "feat_importances = feat_importances.sort_values(ascending=True)\n",
        "\n",
        "# Printing the feature importances\n",
        "for feature, importance in feat_importances.items():\n",
        "    print(f\"Feature: {feature}, Information Gain: {importance:.4f}\")\n",
        "    # List of features to drop\n",
        "features_to_drop = [\n",
        "    'Streaming TV_Yes', 'Multiple Lines_No', 'Streaming Movies_Yes', 'Streaming Movies_No',\n",
        "    'CLTV', 'Phone Service_No', 'Gender_Male', 'Streaming TV_No'\n",
        "]\n",
        "\n",
        "# Dropping the irrelevant features\n",
        "x_reduced = x.drop(columns=features_to_drop)\n",
        "# Create a DataFrame for feature importances\n",
        "feat_importances = pd.Series(importances, index=x.columns)\n",
        "\n",
        "# Selecting features with information gain above a threshold\n",
        "threshold = 0.01\n",
        "selected_features = feat_importances[feat_importances > threshold].index.tolist()\n",
        "\n",
        "# Subset the data with selected features\n",
        "x_selected = x[selected_features]\n",
        "\n",
        "print(f\"Selected features: {selected_features}\")"
      ],
      "metadata": {
        "colab": {
          "base_uri": "https://localhost:8080/"
        },
        "id": "YkwOfnHbyGm4",
        "outputId": "e1fc19c9-55ff-461b-9533-7d0f21aa9754"
      },
      "execution_count": 25,
      "outputs": [
        {
          "output_type": "stream",
          "name": "stdout",
          "text": [
            "Feature: Device Protection_No, Information Gain: 0.0000\n",
            "Feature: Multiple Lines_Yes, Information Gain: 0.0000\n",
            "Feature: Gender_Female, Information Gain: 0.0000\n",
            "Feature: Streaming Movies_No, Information Gain: 0.0000\n",
            "Feature: Phone Service_No, Information Gain: 0.0010\n",
            "Feature: CLTV, Information Gain: 0.0010\n",
            "Feature: Payment Method_Bank transfer (automatic), Information Gain: 0.0015\n",
            "Feature: Online Backup_Yes, Information Gain: 0.0024\n",
            "Feature: Multiple Lines_No, Information Gain: 0.0033\n",
            "Feature: Streaming TV_No, Information Gain: 0.0035\n",
            "Feature: Streaming Movies_Yes, Information Gain: 0.0041\n",
            "Feature: Phone Service_Yes, Information Gain: 0.0059\n",
            "Feature: Internet Service_DSL, Information Gain: 0.0069\n",
            "Feature: City, Information Gain: 0.0078\n",
            "Feature: Streaming TV_Yes, Information Gain: 0.0081\n",
            "Feature: Payment Method_Credit card (automatic), Information Gain: 0.0093\n",
            "Feature: Online Backup_No, Information Gain: 0.0103\n",
            "Feature: Partner_No, Information Gain: 0.0104\n",
            "Feature: Online Security_Yes, Information Gain: 0.0117\n",
            "Feature: Senior Citizen_Yes, Information Gain: 0.0120\n",
            "Feature: Tech Support_Yes, Information Gain: 0.0120\n",
            "Feature: Gender_Male, Information Gain: 0.0121\n",
            "Feature: Tech Support_No, Information Gain: 0.0125\n",
            "Feature: Device Protection_Yes, Information Gain: 0.0126\n",
            "Feature: Payment Method_Mailed check, Information Gain: 0.0134\n",
            "Feature: Senior Citizen_No, Information Gain: 0.0157\n",
            "Feature: Partner_Yes, Information Gain: 0.0168\n",
            "Feature: Paperless Billing_No, Information Gain: 0.0172\n",
            "Feature: Contract_One year, Information Gain: 0.0173\n",
            "Feature: Paperless Billing_Yes, Information Gain: 0.0184\n",
            "Feature: Online Security_No, Information Gain: 0.0194\n",
            "Feature: Internet Service_No, Information Gain: 0.0239\n",
            "Feature: Monthly Charges, Information Gain: 0.0400\n",
            "Feature: Dependents_Yes, Information Gain: 0.0401\n",
            "Feature: Payment Method_Electronic check, Information Gain: 0.0407\n",
            "Feature: Internet Service_Fiber optic, Information Gain: 0.0408\n",
            "Feature: Dependents_No, Information Gain: 0.0424\n",
            "Feature: Total Charges, Information Gain: 0.0429\n",
            "Feature: Contract_Two year, Information Gain: 0.0584\n",
            "Feature: Tenure Months, Information Gain: 0.0724\n",
            "Feature: Contract_Month-to-month, Information Gain: 0.0862\n",
            "Selected features: ['Tenure Months', 'Monthly Charges', 'Total Charges', 'Gender_Male', 'Senior Citizen_No', 'Senior Citizen_Yes', 'Partner_No', 'Partner_Yes', 'Dependents_No', 'Dependents_Yes', 'Internet Service_Fiber optic', 'Internet Service_No', 'Online Security_No', 'Online Security_Yes', 'Online Backup_No', 'Device Protection_Yes', 'Tech Support_No', 'Tech Support_Yes', 'Contract_Month-to-month', 'Contract_One year', 'Contract_Two year', 'Paperless Billing_No', 'Paperless Billing_Yes', 'Payment Method_Electronic check', 'Payment Method_Mailed check']\n"
          ]
        }
      ]
    },
    {
      "cell_type": "code",
      "source": [
        "x_train, x_test, y_train, y_test = train_test_split(x_selected, y, test_size=0.2, random_state=42)\n",
        "\n",
        "# Training a RandomForest classifier\n",
        "model = RandomForestClassifier(random_state=42)\n",
        "model.fit(x_train, y_train)\n",
        "\n",
        "# Making predictions\n",
        "y_pred = model.predict(x_test)\n",
        "\n",
        "# Evaluating the model\n",
        "accuracy = accuracy_score(y_test, y_pred)\n",
        "print(f\"Accuracy: {accuracy:.4f}\")\n",
        "print(classification_report(y_test, y_pred))"
      ],
      "metadata": {
        "id": "e-m_xO2SzE7M",
        "colab": {
          "base_uri": "https://localhost:8080/"
        },
        "outputId": "f8751154-e102-497e-a7ec-a6370e5c508f"
      },
      "execution_count": 27,
      "outputs": [
        {
          "output_type": "stream",
          "name": "stdout",
          "text": [
            "Accuracy: 0.7854\n",
            "              precision    recall  f1-score   support\n",
            "\n",
            "           0       0.82      0.89      0.86      1012\n",
            "           1       0.65      0.51      0.57       395\n",
            "\n",
            "    accuracy                           0.79      1407\n",
            "   macro avg       0.74      0.70      0.72      1407\n",
            "weighted avg       0.78      0.79      0.78      1407\n",
            "\n"
          ]
        }
      ]
    },
    {
      "cell_type": "markdown",
      "source": [],
      "metadata": {
        "id": "I-IBJTH9VQIg"
      }
    },
    {
      "cell_type": "code",
      "source": [],
      "metadata": {
        "id": "R3szW4K7zdb8"
      },
      "execution_count": null,
      "outputs": []
    }
  ]
}